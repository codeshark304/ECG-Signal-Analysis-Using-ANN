import numpy as np
import pandas as pd
from sklearn.model_selection import train_test_split
from sklearn.preprocessing import StandardScaler
from tensorflow import keras
from tensorflow.keras import layers
from sklearn.metrics import classification_report,
confusion_matrix, ConfusionMatrixDisplay
from sklearn.preprocessing import LabelEncoder
import matplotlib.pyplot as plt

# Load the dataset
df = pd.read_csv("synthetic_ecg_signals.csv")
X = df[['ECG_Signal']].values # Features
y = df['Disease'].values # Labels

# Encode labels
label_encoder = LabelEncoder()
y_encoded = label_encoder.fit_transform(y)

# Split the data into training and testing sets
X_train, X_test, y_train, y_test = train_test_split(X, y_encoded,
test_size=0.2, random_state=42)

# Scale the data
scaler = StandardScaler()
X_train = scaler.fit_transform(X_train)
X_test = scaler.transform(X_test)

# Define the ANN model
model = keras.Sequential([
layers.Input(shape=(X_train.shape[1],)),
layers.Dense(64, activation='relu'),
layers.Dense(32, activation='relu'),
layers.Dense(len(np.unique(y_encoded)),
activation='softmax')])

# CASE 2 - USING SIGMOID ACTIVATION
model = keras.Sequential([
layers.Input(shape=(X_train.shape[1],)),
layers.Dense(64, activation='sigmoid'),
layers.Dense(32, activation='sigmoid'),
layers.Dense(len(np.unique(y_encoded)),
activation='softmax')])

# CASE 3 - USING TANH ACTIVATION
model = keras.Sequential([
layers.Input(shape=(X_train.shape[1],)),
layers.Dense(64, activation='tanh'),
layers.Dense(32, activation='tanh'),
layers.Dense(len(np.unique(y_encoded)),
activation='softmax')])

# Compile the model
model.compile(optimizer='adam',
loss='sparse_categorical_crossentropy', metrics=['accuracy'])

# Train the model
history = model.fit(X_train, y_train, epochs=50, batch_size=32,
validation_split=0.2)

# Evaluate the model on the test set
test_loss, test_accuracy = model.evaluate(X_test, y_test)
print(f'Test Accuracy: {test_accuracy:.2f}')

# Make predictions
y_pred = model.predict(X_test)
y_pred_classes = np.argmax(y_pred, axis=1)

# Generate classification report
print("Classification Report:")
print(classification_report(y_test, y_pred_classes,
target_names=label_encoder.classes_))

# Generate confusion matrix
conf_matrix = confusion_matrix(y_test, y_pred_classes)

# Format the confusion matrix for specific output
formatted_conf_matrix = "Confusion Matrix:\n" + "\n".join(
["[" + " ".join(map(str, row)) + "]" for row in conf_matrix])
print(formatted_conf_matrix)

# Display the confusion matrix using ConfusionMatrixDisplay
cm_display = ConfusionMatrixDisplay(confusion_matrix=conf_matrix,
display_labels=label_encoder.classes_)
cm_display.plot(cmap=plt.cm.Blues)
plt.title('Confusion Matrix')
plt.ylabel('Actual')
plt.xlabel('Predicted')
plt.show()
